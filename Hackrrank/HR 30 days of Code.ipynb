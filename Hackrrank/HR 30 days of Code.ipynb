{
 "cells": [
  {
   "cell_type": "markdown",
   "metadata": {},
   "source": [
    "## Day 2: Operators\n",
    "Objective\n",
    "\n",
    "In this challenge, you'll work with arithmetic operators. Check out the Tutorial tab for learning materials and an instructional video!\n",
    "\n",
    "Task\n",
    "Given the meal price (base cost of a meal), tip percent (the percentage of the meal price being added as tip), and tax percent (the percentage of the meal price being added as tax) for a meal, find and print the meal's total cost.\n",
    "Note: Be sure to use precise values for your calculations, or you may end up with an incorrectly rounded result!\n",
    "  Input Format\n",
    "There are lines of numeric input: The first line has a double,\n",
    "The second line has an integer, The third line has an integer,\n",
    "Output Format\n",
    "Print the total meal cost, where tip).\n",
    "(the cost of the meal before tax and tip).\n",
    "(the percentage of being added as tip).\n",
    "(the percentage of being added as tax).\n",
    "is the rounded integer result of the entire bill (\n",
    "with added tax and\n",
    "\n",
    "Sample Input\n",
    "12.00 20\n",
    "8\n",
    "\n",
    "Sample Output\n",
    "15\n",
    "\n",
    "Explanation Given: Calculations:\n",
    "We round\n",
    ",,\n",
    " to the nearest dollar (integer) and then print our result, ."
   ]
  },
  {
   "cell_type": "code",
   "execution_count": 5,
   "metadata": {},
   "outputs": [],
   "source": [
    "def solve(meal_cost, tip_percent, tax_percent):\n",
    "    total = meal_cost + (meal_cost * (tip_percent/100)) + (meal_cost * (tax_percent/100))\n",
    "    print(round(total))"
   ]
  },
  {
   "cell_type": "code",
   "execution_count": 6,
   "metadata": {},
   "outputs": [
    {
     "name": "stdout",
     "output_type": "stream",
     "text": [
      "13\n"
     ]
    }
   ],
   "source": [
    "solve(meal_cost = 10.25, tip_percent = 17, tax_percent = 5)"
   ]
  },
  {
   "cell_type": "code",
   "execution_count": null,
   "metadata": {},
   "outputs": [],
   "source": []
  }
 ],
 "metadata": {
  "kernelspec": {
   "display_name": "Python 3",
   "language": "python",
   "name": "python3"
  },
  "language_info": {
   "codemirror_mode": {
    "name": "ipython",
    "version": 3
   },
   "file_extension": ".py",
   "mimetype": "text/x-python",
   "name": "python",
   "nbconvert_exporter": "python",
   "pygments_lexer": "ipython3",
   "version": "3.7.6"
  }
 },
 "nbformat": 4,
 "nbformat_minor": 4
}
